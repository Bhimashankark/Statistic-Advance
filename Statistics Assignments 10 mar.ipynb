{
 "cells": [
  {
   "cell_type": "markdown",
   "id": "4b3191e5-7c8f-4855-87c6-4858b7481968",
   "metadata": {},
   "source": [
    "## ASSIGNMENT ON STATISTICS ADVANCE"
   ]
  },
  {
   "cell_type": "markdown",
   "id": "772623c3-e72f-4ce7-9c7f-dfb832d19ea2",
   "metadata": {},
   "source": [
    "Q1: What is Estimation Statistics? Explain point estimate and interval estimate."
   ]
  },
  {
   "cell_type": "markdown",
   "id": "b57b45f1-d987-4a8d-9db5-c19295d4dfef",
   "metadata": {},
   "source": [
    "Estimation statistics is a branch of inferential statistics that involves making inferences about population parameters based on sample data. It is used when it is not feasible or practical to collect data from an entire population, so we rely on a sample to make inferences about the population.\n",
    "\n",
    "Point Estimate:\n",
    "A point estimate is a single value that is used to estimate an unknown population parameter. It is calculated based on the sample data and is used to make an educated guess about the population parameter. For example, the sample mean (x̄) is often used as a point estimate for the population mean (μ). However, it's important to note that a point estimate does not provide information about the precision or accuracy of the estimate.\n",
    "\n",
    "Interval Estimate:\n",
    "An interval estimate provides a range of values within which the true population parameter is likely to lie. It takes into account both the point estimate and the variability or uncertainty associated with the estimate. The most common type of interval estimate is the confidence interval, which provides a range of values around the point estimate."
   ]
  },
  {
   "cell_type": "code",
   "execution_count": null,
   "id": "65834e1b-0a33-48f7-8381-7e3fb45cbccc",
   "metadata": {},
   "outputs": [],
   "source": []
  },
  {
   "cell_type": "markdown",
   "id": "fcd27ebb-b9ec-41bd-b103-98139fcc7180",
   "metadata": {},
   "source": [
    "Q2. Write a Python function to estimate the population mean using a sample mean and standard deviation."
   ]
  },
  {
   "cell_type": "code",
   "execution_count": 3,
   "id": "4d6abbe6-e633-485c-9e79-1bf948f7cc3d",
   "metadata": {},
   "outputs": [],
   "source": [
    "import math\n",
    "\n",
    "def estimate_population_mean(sample_mean, sample_std_dev, sample_size):\n",
    "    # Calculate the standard error (standard deviation of the sampling distribution)\n",
    "    standard_error = sample_std_dev / math.sqrt(sample_size)\n",
    "    \n",
    "    # Calculate the margin of error (usually based on a desired confidence level)\n",
    "    # For example, for a 95% confidence level, the z-value would be 1.96\n",
    "    z_value = 1.96\n",
    "    margin_of_error = z_value * standard_error\n",
    "    \n",
    "    # Calculate the lower and upper bounds of the confidence interval\n",
    "    lower_bound = sample_mean - margin_of_error\n",
    "    upper_bound = sample_mean + margin_of_error\n",
    "    \n",
    "    # Return the estimated population mean and confidence interval\n",
    "    return sample_mean, lower_bound, upper_bound\n"
   ]
  },
  {
   "cell_type": "code",
   "execution_count": null,
   "id": "d59367ee-101b-4a02-ab01-dc20e570bae3",
   "metadata": {},
   "outputs": [],
   "source": []
  },
  {
   "cell_type": "markdown",
   "id": "0029790d-cb1c-4713-a8ac-d7109cb655e0",
   "metadata": {},
   "source": [
    "Q3: What is Hypothesis testing? Why is it used? State the importance of Hypothesis testing."
   ]
  },
  {
   "cell_type": "markdown",
   "id": "bce825ac-0227-4817-8019-fa057793d577",
   "metadata": {},
   "source": [
    "Hypothesis testing is a statistical procedure used to make inferences or draw conclusions about a population based on sample data. It involves formulating a null hypothesis and an alternative hypothesis, collecting data, and using statistical methods to determine the likelihood of the data supporting or contradicting the null hypothesis.\n",
    "\n",
    "The main purpose of hypothesis testing is to make objective decisions or conclusions about the characteristics of a population using sample data. It allows us to evaluate the validity of a claim or hypothesis about a population based on the available evidence.\n",
    "\n",
    "### Importance of Hypothesis Testing:\n",
    "\n",
    "Objectivity: Hypothesis testing provides an objective framework for evaluating claims or hypotheses. It involves using statistical methods and data to make informed decisions rather than relying on personal opinions or biases.\n",
    "\n",
    "Scientific Research: Hypothesis testing is crucial in scientific research as it helps researchers test their hypotheses, determine the significance of their findings, and contribute to the existing body of knowledge. It allows researchers to draw meaningful and valid conclusions based on statistical evidence.\n",
    "\n",
    "Decision-Making: Hypothesis testing plays a vital role in decision-making processes, particularly in fields such as business, medicine, and engineering. It allows decision-makers to assess the effectiveness of interventions, compare different strategies or treatments, and make informed choices based on statistical evidence.\n",
    "\n",
    "Control of Errors: Hypothesis testing provides a framework for controlling errors, specifically Type I and Type II errors. Type I error occurs when we reject a true null hypothesis, while Type II error occurs when we fail to reject a false null hypothesis. By setting a predetermined significance level (alpha) and calculating p-values, hypothesis testing helps us minimize these errors and make accurate conclusions.\n",
    "\n",
    "Scientific Validity: Hypothesis testing adds rigor and validity to scientific studies by subjecting claims and hypotheses to statistical scrutiny. It allows researchers to quantify the strength of evidence against the null hypothesis, increasing the credibility and reliability of research findings."
   ]
  },
  {
   "cell_type": "code",
   "execution_count": null,
   "id": "07a13861-c12b-4f8f-8d80-1b4d0a8fa2a7",
   "metadata": {},
   "outputs": [],
   "source": []
  },
  {
   "cell_type": "markdown",
   "id": "f2366bbb-3963-421f-88ad-ccad53f3e484",
   "metadata": {},
   "source": [
    "Q4. Create a hypothesis that states whether the average weight of male college students is greater than the average weight of female college students"
   ]
  },
  {
   "cell_type": "markdown",
   "id": "0e4e6cb5-ed28-4347-83fd-6ed7ca2b4b37",
   "metadata": {},
   "source": [
    "Hypothesis: The average weight of male college students is greater than the average weight of female college students.\n",
    "\n",
    "Null hypothesis (H0): The average weight of male college students is equal to or less than the average weight of female college students.\n",
    "Alternative hypothesis (HA): The average weight of male college students is greater than the average weight of female college students.\n",
    "\n",
    "Symbolically:\n",
    "\n",
    "H0: μ_male ≤ μ_female\n",
    "HA: μ_male > μ_female\n",
    "\n",
    "In this hypothesis, μ_male represents the population mean weight of male college students, and μ_female represents the population mean weight of female college students.\n",
    "\n",
    "To test this hypothesis, we would collect data on the weights of male and female college students, calculate the sample means for each group, and perform a statistical test (such as a t-test or z-test) to determine if there is sufficient evidence to support the alternative hypothesis that the average weight of male college students is greater than the average weight of female college students."
   ]
  },
  {
   "cell_type": "code",
   "execution_count": null,
   "id": "fd243d4f-9e12-4e1f-8310-a35545a2def2",
   "metadata": {},
   "outputs": [],
   "source": []
  },
  {
   "cell_type": "markdown",
   "id": "209f5aaf-bb4d-4b26-b4da-b03ae1c5b27e",
   "metadata": {},
   "source": [
    "Q5. Write a Python script to conduct a hypothesis test on the difference between two population means, given a sample from each population."
   ]
  },
  {
   "cell_type": "code",
   "execution_count": 4,
   "id": "3b645182-80d7-48ad-9c0c-e112c1ee00e3",
   "metadata": {},
   "outputs": [],
   "source": [
    "import scipy.stats as stats\n",
    "\n",
    "def conduct_hypothesis_test(sample1, sample2, alpha):\n",
    "    # Perform an independent t-test assuming unequal variances\n",
    "    t_stat, p_value = stats.ttest_ind(sample1, sample2, equal_var=False)\n",
    "\n",
    "    # Compare the p-value to the significance level\n",
    "    if p_value < alpha:\n",
    "        print(\"Reject the null hypothesis.\")\n",
    "    else:\n",
    "        print(\"Fail to reject the null hypothesis.\")\n",
    "\n",
    "    # Return the test statistic and p-value\n",
    "    return t_stat, p_value\n"
   ]
  },
  {
   "cell_type": "code",
   "execution_count": null,
   "id": "7835769e-42fc-4488-a8da-7b843535d36b",
   "metadata": {},
   "outputs": [],
   "source": []
  },
  {
   "cell_type": "markdown",
   "id": "f09f13d1-f76b-4354-9186-41569de6fc7c",
   "metadata": {},
   "source": [
    "Q6: What is a null and alternative hypothesis? Give some examples."
   ]
  },
  {
   "cell_type": "markdown",
   "id": "fe7e15b6-b855-45ff-96ac-5a202c16250e",
   "metadata": {},
   "source": [
    "1)Null Hypothesis (H0):\n",
    "The null hypothesis represents the default assumption or the statement of no effect or no difference. It assumes that there is no relationship, no effect, or no significant difference between variables. It is typically denoted as H0. In hypothesis testing, we aim to provide evidence to either reject or fail to reject the null hypothesis. \n",
    "\n",
    "Examples of null hypotheses include:\n",
    "\n",
    "The mean height of men and women is equal.\n",
    "There is no difference in test scores between two teaching methods.\n",
    "A new drug has no effect on reducing cholesterol levels.\n",
    "\n",
    "2)Alternative Hypothesis (HA or H1):\n",
    "The alternative hypothesis is the statement that contradicts or opposes the null hypothesis. It represents the possibility of a relationship, an effect, or a significant difference between variables. It is denoted as HA or sometimes as H1. The alternative hypothesis is what the researcher or analyst seeks to support or demonstrate through statistical evidence. \n",
    "\n",
    "Examples of alternative hypotheses include:\n",
    "The mean height of men is greater than the mean height of women.\n",
    "Teaching method A leads to higher test scores compared to teaching method B.\n",
    "The new drug significantly reduces cholesterol levels."
   ]
  },
  {
   "cell_type": "code",
   "execution_count": null,
   "id": "13808e0b-bebb-407a-8427-7257488cd12a",
   "metadata": {},
   "outputs": [],
   "source": []
  },
  {
   "cell_type": "markdown",
   "id": "9959ee39-e51e-4aa8-a63d-c1455d513014",
   "metadata": {},
   "source": [
    "Q7: Write down the steps involved in hypothesis testing."
   ]
  },
  {
   "cell_type": "markdown",
   "id": "e199c7e9-8f72-43b1-8dc1-192071d677c6",
   "metadata": {},
   "source": [
    "Hypothesis testing involves a series of steps to evaluate the validity of a claim or hypothesis about a population based on sample data. Here are the general steps involved in hypothesis testing:\n",
    "\n",
    "State the Null and Alternative Hypotheses:\n",
    "Clearly define the null hypothesis (H0) and the alternative hypothesis (HA or H1) based on the research question or claim.\n",
    "\n",
    "Set the Significance Level (Alpha):\n",
    "Determine the desired level of significance (alpha), which represents the probability of rejecting the null hypothesis when it is true. Commonly used significance levels are 0.05 (5%) and 0.01 (1%).\n",
    "\n",
    "Collect Sample Data:\n",
    "Collect data from a representative sample that is relevant to the research question or claim. The sample should be obtained using appropriate sampling methods to ensure it is representative of the population.\n",
    "\n",
    "Select an Appropriate Test Statistic:\n",
    "Choose a suitable test statistic based on the nature of the data and the hypothesis being tested. This could be a t-test, z-test, chi-square test, or others, depending on the specific situation.\n",
    "\n",
    "Determine the Test Statistic's Distribution:\n",
    "Determine the distribution of the test statistic under the assumption that the null hypothesis is true. This step is important for calculating p-values or critical values needed for the hypothesis test.\n",
    "\n",
    "Calculate the Test Statistic:\n",
    "Use the sample data to calculate the value of the chosen test statistic based on the selected statistical test.\n",
    "\n",
    "Determine the Rejection Region or Calculate the p-value:\n",
    "Depending on the chosen test statistic and the form of the alternative hypothesis, determine the rejection region (critical region) or calculate the p-value associated with the test statistic. The rejection region represents the values of the test statistic that would lead to the rejection of the null hypothesis. The p-value represents the probability of observing a test statistic as extreme as or more extreme than the calculated value, assuming the null hypothesis is true.\n",
    "\n",
    "Make a Decision:\n",
    "Compare the test statistic to the critical value(s) or compare the p-value to the significance level (alpha). If the test statistic falls in the rejection region or the p-value is less than alpha, reject the null hypothesis. Otherwise, fail to reject the null hypothesis.\n",
    "\n",
    "Draw Conclusions:\n",
    "Based on the decision in step 8, interpret the results of the hypothesis test in the context of the research question or claim. Provide conclusions, including any implications or insights gained from the analysis."
   ]
  },
  {
   "cell_type": "code",
   "execution_count": null,
   "id": "43a96b5b-59f3-4dde-b3b0-261a92a3677d",
   "metadata": {},
   "outputs": [],
   "source": []
  },
  {
   "cell_type": "markdown",
   "id": "2d992571-f9c4-46d6-9f5c-40a925f63403",
   "metadata": {},
   "source": [
    "Q8. Define p-value and explain its significance in hypothesis testing."
   ]
  },
  {
   "cell_type": "markdown",
   "id": "3d822da3-e9a9-40d0-a23e-0d7e0c9ee059",
   "metadata": {},
   "source": [
    "In hypothesis testing, the p-value is a measure of the strength of evidence against the null hypothesis. It represents the probability of observing a test statistic as extreme as or more extreme than the one calculated from the sample data, assuming the null hypothesis is true. The p-value helps us determine the level of statistical significance and make decisions about rejecting or failing to reject the null hypothesis.\n",
    "\n",
    "The significance of the p-value in hypothesis testing can be understood as follows:\n",
    "\n",
    "Testing the Null Hypothesis:\n",
    "The p-value allows us to assess the compatibility of the observed data with the null hypothesis. If the p-value is small (below the predetermined significance level, alpha), it suggests that the observed data is unlikely to have occurred under the assumption of the null hypothesis.\n",
    "\n",
    "Decision-Making:\n",
    "By comparing the p-value with the significance level (alpha), we can make decisions about rejecting or failing to reject the null hypothesis. If the p-value is less than alpha, we reject the null hypothesis in favor of the alternative hypothesis. If the p-value is greater than or equal to alpha, we fail to reject the null hypothesis.\n",
    "\n",
    "Quantifying the Strength of Evidence:\n",
    "The p-value provides a quantitative measure of the strength of evidence against the null hypothesis. A small p-value suggests strong evidence against the null hypothesis, indicating that the observed data is unlikely to have occurred due to chance alone. Conversely, a large p-value suggests weak evidence against the null hypothesis, indicating that the observed data is reasonably consistent with the null hypothesis.\n",
    "\n",
    "Interpretation:\n",
    "The p-value helps in interpreting the results of a hypothesis test. If the p-value is very small (e.g., less than 0.05), it is commonly interpreted as statistically significant, suggesting that the observed effect or relationship is unlikely to be due to random variation. If the p-value is not small (e.g., greater than 0.05), it is interpreted as not statistically significant, indicating that the observed effect or relationship could plausibly be due to random variation."
   ]
  },
  {
   "cell_type": "code",
   "execution_count": null,
   "id": "4d168b6d-1bef-4430-babb-3831f71c7a02",
   "metadata": {},
   "outputs": [],
   "source": []
  },
  {
   "cell_type": "markdown",
   "id": "43ed332c-2c03-456d-8156-3ca436694c58",
   "metadata": {},
   "source": [
    "Q9. Generate a Student's t-distribution plot using Python's matplotlib library, with the degrees of freedom parameter set to 10."
   ]
  },
  {
   "cell_type": "code",
   "execution_count": null,
   "id": "52698493-8f60-407d-a9d2-7748f2807d7e",
   "metadata": {},
   "outputs": [],
   "source": [
    "import numpy as np\n",
    "import matplotlib.pyplot as plt\n",
    "import scipy.stats as stats\n",
    "\n",
    "# Generate x-axis values for the plot\n",
    "x = np.linspace(-4, 4, 1000)\n",
    "\n",
    "# Calculate the probability density function (PDF) for the t-distribution with 10 degrees of freedom\n",
    "pdf = stats.t.pdf(x, df=10)\n",
    "\n",
    "# Plot the t-distribution\n",
    "plt.plot(x, pdf, label='t-distribution (df=10)')\n",
    "plt.xlabel('x')\n",
    "plt.ylabel('Probability Density')\n",
    "plt.title(\"Student's t-distribution (df=10)\")\n",
    "plt.legend()\n",
    "plt.grid(True)\n",
    "plt.show()\n"
   ]
  },
  {
   "cell_type": "code",
   "execution_count": null,
   "id": "2b4664dd-84c2-46b5-bdac-cbd540903f8e",
   "metadata": {},
   "outputs": [],
   "source": []
  },
  {
   "cell_type": "markdown",
   "id": "c66ccf83-d3a4-41d4-873a-c346500b02c6",
   "metadata": {},
   "source": [
    "Q10. Write a Python program to calculate the two-sample t-test for independent samples, given two random samples of equal size and a null hypothesis that the population means are equal."
   ]
  },
  {
   "cell_type": "code",
   "execution_count": 7,
   "id": "c8ef2680-dda2-4684-ac2f-a30e1e631331",
   "metadata": {},
   "outputs": [
    {
     "name": "stdout",
     "output_type": "stream",
     "text": [
      "Test statistic: 1.0\n",
      "p-value: 0.3465935070873343\n"
     ]
    }
   ],
   "source": [
    "import numpy as np\n",
    "import scipy.stats as stats\n",
    "\n",
    "def two_sample_t_test(sample1, sample2):\n",
    "    # Calculate the means and variances of the two samples\n",
    "    mean1 = np.mean(sample1)\n",
    "    mean2 = np.mean(sample2)\n",
    "    var1 = np.var(sample1, ddof=1)\n",
    "    var2 = np.var(sample2, ddof=1)\n",
    "    n1 = len(sample1)\n",
    "    n2 = len(sample2)\n",
    "\n",
    "    # Calculate the pooled standard deviation\n",
    "    pooled_std = np.sqrt((var1 + var2) / 2)\n",
    "\n",
    "    # Calculate the test statistic\n",
    "    t = (mean1 - mean2) / (pooled_std * np.sqrt(1/n1 + 1/n2))\n",
    "\n",
    "    # Calculate the degrees of freedom\n",
    "    df = n1 + n2 - 2\n",
    "\n",
    "    # Calculate the p-value (two-tailed)\n",
    "    p_value = 2 * (1 - stats.t.cdf(abs(t), df))\n",
    "\n",
    "    # Return the test statistic and p-value\n",
    "    return t, p_value\n",
    "\n",
    "# Example usage\n",
    "sample1 = [5, 7, 9, 8, 6]\n",
    "sample2 = [4, 6, 8, 7, 5]\n",
    "\n",
    "t_stat, p_value = two_sample_t_test(sample1, sample2)\n",
    "\n",
    "print(\"Test statistic:\", t_stat)\n",
    "print(\"p-value:\", p_value)\n"
   ]
  },
  {
   "cell_type": "code",
   "execution_count": null,
   "id": "0a119cba-3aac-4751-9b02-9b92caf4366e",
   "metadata": {},
   "outputs": [],
   "source": []
  },
  {
   "cell_type": "markdown",
   "id": "3314b8c8-b7c2-42eb-ad7e-3891c2fa1bc0",
   "metadata": {},
   "source": [
    "Q11: What is Student’s t distribution? When to use the t-Distribution."
   ]
  },
  {
   "cell_type": "markdown",
   "id": "a4f7d827-6b5a-4e2d-aa0a-efff0da8a592",
   "metadata": {},
   "source": [
    "Student's t-distribution, also known as the t-distribution, is a probability distribution that is used in hypothesis testing and confidence interval estimation when the population standard deviation is unknown and the sample size is small.\n",
    "\n",
    "The t-distribution is similar to the standard normal distribution (Z-distribution), but it has heavier tails. The shape of the t-distribution depends on the degrees of freedom (df), which is determined by the sample size. As the sample size increases, the t-distribution approaches the standard normal distribution.\n",
    "\n",
    "The t-distribution is used in situations where the population standard deviation is unknown and needs to be estimated from the sample data. This commonly occurs when working with small sample sizes or when the population standard deviation is not available. Some scenarios where the t-distribution is appropriate include:\n",
    "\n",
    "Testing the population mean: When you want to test whether the mean of a sample is significantly different from a hypothesized population mean, and the population standard deviation is unknown, you can use the t-distribution.\n",
    "\n",
    "Confidence interval estimation: When you want to estimate the population mean with a certain level of confidence and the population standard deviation is unknown, you can use the t-distribution to construct a confidence interval.\n",
    "\n",
    "Comparing two population means: When comparing the means of two independent samples and the population standard deviations are unknown, the t-distribution is used to perform a two-sample t-test.\n",
    "\n",
    "The t-distribution is particularly valuable when working with small sample sizes because it takes into account the additional uncertainty introduced by estimating the population standard deviation from limited data. As the sample size increases, the t-distribution becomes closer to the standard normal distribution, and the use of the t-distribution becomes less critical."
   ]
  },
  {
   "cell_type": "code",
   "execution_count": null,
   "id": "a559d1cc-a3f1-4c34-a2df-ade377235df4",
   "metadata": {},
   "outputs": [],
   "source": []
  },
  {
   "cell_type": "markdown",
   "id": "1650f2a5-c796-4088-a01e-5f3a7c413df6",
   "metadata": {},
   "source": [
    "Q12: What is t-statistic? State the formula for t-statistic."
   ]
  },
  {
   "cell_type": "markdown",
   "id": "65751ddb-687c-4611-b71f-aeb69500b47e",
   "metadata": {},
   "source": [
    "The t-statistic (also known as the t-value or t-score) is a measure of how the sample mean differs from the hypothesized population mean in hypothesis testing. It is used to assess whether the observed difference between sample data and the population parameter is statistically significant.\n",
    "\n",
    "The formula for the t-statistic depends on the type of hypothesis test being conducted. Here are the formulas for two common scenarios:\n",
    "\n",
    "One-sample t-test:\n",
    "The one-sample t-test compares the mean of a single sample to a hypothesized population mean.\n",
    "\n",
    "t = (x̄ - μ) / (s / √n)\n",
    "\n",
    "In this formula:\n",
    "\n",
    "t: The t-statistic\n",
    "x̄: The sample mean\n",
    "μ: The hypothesized population mean\n",
    "s: The sample standard deviation\n",
    "n: The sample size\n",
    "Independent two-sample t-test:\n",
    "The independent two-sample t-test compares the means of two independent samples to determine if they come from populations with equal means.\n",
    "\n",
    "t = (x̄1 - x̄2) / √[(s1^2 / n1) + (s2^2 / n2)]\n",
    "\n",
    "In this formula:\n",
    "\n",
    "t: The t-statistic\n",
    "x̄1, x̄2: The sample means of the two independent samples\n",
    "s1, s2: The sample standard deviations of the two independent samples\n",
    "n1, n2: The sample sizes of the two independent samples\n",
    "In both formulas, the t-statistic represents the standardized difference between the sample mean(s) and the hypothesized population mean(s). A larger absolute value of the t-statistic indicates a larger difference between the sample mean(s) and the hypothesized population mean(s).\n",
    "\n",
    "The t-statistic is then compared to critical values from the t-distribution or used to calculate a p-value to make a decision about rejecting or failing to reject the null hypothesis.\n",
    "\n",
    "It's important to note that the formula for the t-statistic may vary depending on the specific hypothesis test being conducted, such as paired t-tests or other variants."
   ]
  },
  {
   "cell_type": "code",
   "execution_count": null,
   "id": "e7b4da54-1b36-4cbf-802e-8366db9b3052",
   "metadata": {},
   "outputs": [],
   "source": []
  },
  {
   "cell_type": "markdown",
   "id": "da375e93-fc9f-4a61-bf96-12e29906e0af",
   "metadata": {},
   "source": [
    "Q13. A coffee shop owner wants to estimate the average daily revenue for their shop. They take a random sample of 50 days and find the sample mean revenue to be $500 with a standard deviation of $50. Estimate the population mean revenue with a 95% confidence interval."
   ]
  },
  {
   "cell_type": "markdown",
   "id": "faeadd12-6306-4b1c-b2a0-f11de86397e1",
   "metadata": {},
   "source": [
    "To estimate the population mean revenue with a 95% confidence interval, we can use the sample mean, sample standard deviation, and the t-distribution.\n",
    "\n",
    "Given information:\n",
    "\n",
    "Sample size (n) = 50\n",
    "Sample mean (x̄) = $500\n",
    "Sample standard deviation (s) = $50\n",
    "Confidence level (1 - α) = 95% (which corresponds to α = 0.05)\n",
    "\n",
    "To calculate the confidence interval, we need to determine the critical value for a t-distribution with n-1 degrees of freedom (49 in this case) at a significance level of α/2 = 0.025 (since it's a two-tailed test).\n",
    "\n",
    "Using the t-distribution table or a statistical software, the critical value for a t-distribution with 49 degrees of freedom and a significance level of 0.025 is approximately 2.009.\n",
    "\n",
    "Now we can calculate the margin of error (E) and the confidence interval:\n",
    "\n",
    "Margin of error (E) = Critical value * (sample standard deviation / √n)\n",
    "E = 2.009 * (50 / √50)\n",
    "E ≈ 14.24\n",
    "\n",
    "Confidence interval = Sample mean ± Margin of error\n",
    "Confidence interval = $500 ± $14.24\n",
    "\n",
    "Therefore, the 95% confidence interval estimate for the population mean revenue is approximately $485.76 to $514.24. We can be 95% confident that the true average daily revenue for the coffee shop lies within this interval."
   ]
  },
  {
   "cell_type": "code",
   "execution_count": null,
   "id": "51a6f557-d009-442d-a59c-01e82e1589c6",
   "metadata": {},
   "outputs": [],
   "source": []
  },
  {
   "cell_type": "markdown",
   "id": "4bd82976-753c-4443-a232-f81a8a7306dc",
   "metadata": {},
   "source": [
    "Q14. A researcher hypothesizes that a new drug will decrease blood pressure by 10 mmHg. They conduct a clinical trial with 100 patients and find that the sample mean decrease in blood pressure is 8 mmHg with a standard deviation of 3 mmHg. Test the hypothesis with a significance level of 0.05."
   ]
  },
  {
   "cell_type": "markdown",
   "id": "9495c54c-97ad-4b55-9d38-8d75609787cf",
   "metadata": {},
   "source": [
    "To test the hypothesis, we will perform a one-sample t-test.\n",
    "\n",
    "Given information:\n",
    "\n",
    "Sample size (n) = 100\n",
    "Sample mean decrease in blood pressure (x̄) = 8 mmHg\n",
    "Sample standard deviation (s) = 3 mmHg\n",
    "Hypothesized population mean decrease in blood pressure (μ) = 10 mmHg\n",
    "Significance level (α) = 0.05\n",
    "Null hypothesis (H0): The new drug does not decrease blood pressure by 10 mmHg (μ = 10)\n",
    "Alternative hypothesis (HA): The new drug decreases blood pressure by 10 mmHg (μ < 10)\n",
    "\n",
    "Next, we calculate the t-statistic using the formula:\n",
    "t = (x̄ - μ) / (s / √n)\n",
    "\n",
    "t = (8 - 10) / (3 / √100)\n",
    "t = -2 / 0.3\n",
    "t = -6.67\n",
    "\n",
    "Using a t-distribution table or statistical software, we find the critical t-value at a significance level of 0.05 for a one-tailed test with 99 degrees of freedom is approximately -1.660. Since our calculated t-value (-6.67) is less than the critical t-value (-1.660), we reject the null hypothesis.\n",
    "\n",
    "Therefore, we can conclude that there is evidence to suggest that the new drug decreases blood pressure by less than 10 mmHg at a significance level of 0.05."
   ]
  },
  {
   "cell_type": "code",
   "execution_count": null,
   "id": "a3a4a3a7-9a6c-4be1-8f3d-3d9a7c59921c",
   "metadata": {},
   "outputs": [],
   "source": []
  },
  {
   "cell_type": "markdown",
   "id": "180ce719-0e89-40a6-8432-2e6ff31fe3fd",
   "metadata": {},
   "source": [
    "Q15. An electronics company produces a certain type of product with a mean weight of 5 pounds and a standard deviation of 0.5 pounds. A random sample of 25 products is taken, and the sample mean weight is found to be 4.8 pounds. Test the hypothesis that the true mean weight of the products is less than 5 pounds with a significance level of 0.01."
   ]
  },
  {
   "cell_type": "markdown",
   "id": "cba3f433-9b3b-4bf2-be68-e2b13d335e9c",
   "metadata": {},
   "source": [
    "To test the hypothesis, we will perform a one-sample t-test.\n",
    "\n",
    "Given information:\n",
    "\n",
    "Population mean weight (μ) = 5 pounds\n",
    "Population standard deviation (σ) = 0.5 pounds\n",
    "Sample size (n) = 25\n",
    "Sample mean weight (x̄) = 4.8 pounds\n",
    "Significance level (α) = 0.01\n",
    "Null hypothesis (H0): The true mean weight of the products is 5 pounds or greater (μ ≥ 5)\n",
    "Alternative hypothesis (HA): The true mean weight of the products is less than 5 pounds (μ < 5)\n",
    "\n",
    "Next, we calculate the t-statistic using the formula:\n",
    "t = (x̄ - μ) / (s / √n)\n",
    "\n",
    "t = (4.8 - 5) / (0.5 / √25)\n",
    "t = -0.2 / 0.1\n",
    "t = -2\n",
    "\n",
    "Using a t-distribution table or statistical software, we find the critical t-value at a significance level of 0.01 for a one-tailed test with 24 degrees of freedom is approximately -2.492. Since our calculated t-value (-2) is greater than the critical t-value (-2.492), we fail to reject the null hypothesis.\n",
    "\n",
    "Therefore, based on the given data, we do not have sufficient evidence to conclude that the true mean weight of the products is less than 5 pounds at a significance level of 0.01."
   ]
  },
  {
   "cell_type": "code",
   "execution_count": null,
   "id": "4d914eee-b7da-4b7d-bdb7-99636bae3916",
   "metadata": {},
   "outputs": [],
   "source": []
  },
  {
   "cell_type": "markdown",
   "id": "01a35e23-80ff-4ae5-a693-9c8823b68774",
   "metadata": {},
   "source": [
    "Q16. Two groups of students are given different study materials to prepare for a test. The first group (n1 = 30) has a mean score of 80 with a standard deviation of 10, and the second group (n2 = 40) has a mean score of 75 with a standard deviation of 8. Test the hypothesis that the population means for the two groups are equal with a significance level of 0.01."
   ]
  },
  {
   "cell_type": "markdown",
   "id": "e99e7f7f-d1dc-4ac6-8b66-5dd614b23237",
   "metadata": {},
   "source": [
    "To test the hypothesis that the population means for the two groups are equal, we can perform an independent two-sample t-test.\n",
    "\n",
    "Given information:\n",
    "\n",
    "Group 1: n1 = 30, mean score (x̄1) = 80, standard deviation (s1) = 10\n",
    "Group 2: n2 = 40, mean score (x̄2) = 75, standard deviation (s2) = 8\n",
    "Significance level (α) = 0.01\n",
    "Null hypothesis (H0): The population means for the two groups are equal (μ1 = μ2)\n",
    "Alternative hypothesis (HA): The population means for the two groups are not equal (μ1 ≠ μ2)\n",
    "\n",
    "The formula for the test statistic in an independent two-sample t-test is:\n",
    "\n",
    "t = (x̄1 - x̄2) / √[(s1^2 / n1) + (s2^2 / n2)]\n",
    "\n",
    "Plugging in the given values, we have:\n",
    "\n",
    "t = (80 - 75) / √[(10^2 / 30) + (8^2 / 40)]\n",
    "t = 5 / √[1.11 + 0.32]\n",
    "t ≈ 5 / √1.43\n",
    "t ≈ 5 / 1.195\n",
    "t ≈ 4.18\n",
    "\n",
    "Using a t-distribution table or statistical software, we find the critical t-value at a significance level of 0.01 for a two-tailed test with (n1 + n2 - 2) degrees of freedom (68 degrees of freedom in this case) is approximately ±2.618.\n",
    "\n",
    "Since our calculated t-value (4.18) is greater than the critical t-value (2.618), we reject the null hypothesis.\n",
    "\n",
    "Therefore, based on the given data, we have sufficient evidence to conclude that the population means for the two groups are not equal at a significance level of 0.01."
   ]
  },
  {
   "cell_type": "code",
   "execution_count": null,
   "id": "c11e9d40-d853-4668-9184-e672faffb493",
   "metadata": {},
   "outputs": [],
   "source": []
  },
  {
   "cell_type": "markdown",
   "id": "4c8eabfa-12c5-4f7b-94c9-cb7ff70a6f7f",
   "metadata": {},
   "source": [
    "Q17. A marketing company wants to estimate the average number of ads watched by viewers during a TV program. They take a random sample of 50 viewers and find that the sample mean is 4 with a standard deviation of 1.5. Estimate the population mean with a 99% confidence interval."
   ]
  },
  {
   "cell_type": "markdown",
   "id": "7a148cb5-9b8f-4ed0-86db-92d4dc3ea9dd",
   "metadata": {},
   "source": [
    "To estimate the population mean with a 99% confidence interval, we can use the sample mean, sample standard deviation, and the t-distribution.\n",
    "\n",
    "Given information:\n",
    "\n",
    "Sample size (n) = 50\n",
    "Sample mean (x̄) = 4\n",
    "Sample standard deviation (s) = 1.5\n",
    "Confidence level (1 - α) = 99% (which corresponds to α = 0.01)\n",
    "\n",
    "To calculate the confidence interval, we need to determine the critical value for a t-distribution with n-1 degrees of freedom (49 in this case) at a significance level of α/2 = 0.005 (since it's a two-tailed test).\n",
    "\n",
    "Using the t-distribution table or a statistical software, the critical value for a t-distribution with 49 degrees of freedom and a significance level of 0.005 is approximately ±2.680.\n",
    "\n",
    "Now we can calculate the margin of error (E) and the confidence interval:\n",
    "\n",
    "Margin of error (E) = Critical value * (sample standard deviation / √n)\n",
    "E = 2.680 * (1.5 / √50)\n",
    "E ≈ 0.599\n",
    "\n",
    "Confidence interval = Sample mean ± Margin of error\n",
    "Confidence interval = 4 ± 0.599\n",
    "\n",
    "Therefore, the 99% confidence interval estimate for the population mean of the number of ads watched by viewers during a TV program is approximately 3.401 to 4.599. We can be 99% confident that the true average number of ads watched falls within this interval."
   ]
  },
  {
   "cell_type": "code",
   "execution_count": null,
   "id": "55e1c72e-65f1-4856-9752-366185888995",
   "metadata": {},
   "outputs": [],
   "source": []
  }
 ],
 "metadata": {
  "kernelspec": {
   "display_name": "Python 3 (ipykernel)",
   "language": "python",
   "name": "python3"
  },
  "language_info": {
   "codemirror_mode": {
    "name": "ipython",
    "version": 3
   },
   "file_extension": ".py",
   "mimetype": "text/x-python",
   "name": "python",
   "nbconvert_exporter": "python",
   "pygments_lexer": "ipython3",
   "version": "3.10.8"
  }
 },
 "nbformat": 4,
 "nbformat_minor": 5
}
