{
 "cells": [
  {
   "cell_type": "markdown",
   "id": "cc8171df-f5c7-4a31-82f2-f4a45cceebc8",
   "metadata": {},
   "source": [
    "## ASSIGNMENT ON STATISTICS ADVANCE"
   ]
  },
  {
   "cell_type": "markdown",
   "id": "a74d06ab-f5c5-42a7-9daa-225d081aa292",
   "metadata": {},
   "source": [
    "Q1. Explain the assumptions required to use ANOVA and provide examples of violations that could impact the validity of the results."
   ]
  },
  {
   "cell_type": "markdown",
   "id": "99e8d5a5-820c-4898-b35e-389f1f5f763a",
   "metadata": {},
   "source": [
    "ANOVA (Analysis of Variance) is a statistical test used to compare the means of three or more groups. To ensure the validity of ANOVA results, several assumptions must be met. Here are the key assumptions for conducting ANOVA:\n",
    "\n",
    "Independence: The observations within each group must be independent of each other. Violations of independence may occur when data points are correlated, such as in repeated measures or clustered designs.\n",
    "\n",
    "Normality: The residuals (the differences between the observed values and the group means) should follow a normal distribution within each group. Departures from normality may affect the accuracy and reliability of ANOVA results. Violations can occur when the data is heavily skewed or has outliers.\n",
    "\n",
    "Homogeneity of variances: The variances of the residuals should be approximately equal across all groups. This assumption is known as homoscedasticity. Violations of homogeneity of variances can lead to imprecise or biased estimates of group differences. It commonly occurs when there are unequal variances between groups or when the sample sizes are unequal.\n",
    "\n",
    "If these assumptions are violated, the validity of ANOVA results may be compromised. Here are examples of violations for each assumption:\n",
    "\n",
    "Independence:\n",
    "\n",
    "Violation example: Using repeated measures design where the same subjects are measured under different conditions, and their responses are likely to be correlated.\n",
    "Normality:\n",
    "\n",
    "Violation example: In a small sample size, the data may not exhibit a perfect normal distribution even if the assumption is met. However, severe skewness or heavy-tailedness can be problematic.\n",
    "Homogeneity of variances:\n",
    "\n",
    "Violation example: Unequal variances may occur when groups have different sample sizes or when different treatments lead to different levels of variability.\n",
    "When these assumptions are violated, alternative statistical tests or transformations may be necessary. For example, non-parametric tests like the Kruskal-Wallis test can be used instead of ANOVA when the normality assumption is violated. Alternatively, data transformations (e.g., logarithmic or square root transformation) can sometimes address violations of normality or homogeneity of variances.\n",
    "\n",
    "It is important to assess and address these assumptions to ensure the validity and reliability of ANOVA results."
   ]
  },
  {
   "cell_type": "code",
   "execution_count": null,
   "id": "3d45dded-f538-4dc3-a19f-41dc6be3b262",
   "metadata": {},
   "outputs": [],
   "source": []
  },
  {
   "cell_type": "markdown",
   "id": "2f70ff66-9bc0-4ee4-a674-f7d0cfe71809",
   "metadata": {},
   "source": [
    "Q2. What are the three types of ANOVA, and in what situations would each be used?"
   ]
  },
  {
   "cell_type": "markdown",
   "id": "83d96960-2ffd-4011-9ecb-1341a789190f",
   "metadata": {},
   "source": [
    "The three types of ANOVA (Analysis of Variance) are:\n",
    "\n",
    "One-way ANOVA: One-way ANOVA is used when comparing the means of three or more groups based on a single independent variable (factor). It tests whether there are any statistically significant differences among the group means. This type of ANOVA is appropriate when you have one categorical independent variable and a continuous dependent variable.\n",
    "Example: A study comparing the average test scores of students from three different schools (School A, School B, and School C).\n",
    "\n",
    "Two-way ANOVA: Two-way ANOVA is used when you want to analyze the effects of two independent variables (factors) simultaneously on a continuous dependent variable. It examines the main effects of each independent variable and their interaction effect. This type of ANOVA is appropriate when you have two categorical independent variables and a continuous dependent variable.\n",
    "Example: A study investigating the effects of both age group (young, middle-aged, and elderly) and gender (male, female) on blood pressure.\n",
    "\n",
    "Repeated Measures ANOVA: Repeated Measures ANOVA (also known as within-subjects ANOVA) is used when measuring the same subjects under different conditions or at multiple time points. It is used to determine if there are any significant differences between the conditions or time points. This type of ANOVA is appropriate when you have a single group of subjects measured on the same continuous dependent variable across multiple conditions or time points.\n",
    "Example: A study measuring participants' anxiety levels before, during, and after exposure to different stressors.\n",
    "\n",
    "In summary, one-way ANOVA is used when comparing means across multiple groups with one independent variable, two-way ANOVA is used when analyzing the effects of two independent variables, and repeated measures ANOVA is used when measuring the same subjects under different conditions or at multiple time points. The appropriate choice of ANOVA depends on the research design and the specific hypotheses being tested."
   ]
  },
  {
   "cell_type": "code",
   "execution_count": null,
   "id": "186bae7e-c3a9-4f58-aa23-b8ef7ac0b7d6",
   "metadata": {},
   "outputs": [],
   "source": []
  },
  {
   "cell_type": "markdown",
   "id": "d1ab49da-d95a-4e28-a20a-5a1d3e0004c0",
   "metadata": {},
   "source": [
    "Q3. What is the partitioning of variance in ANOVA, and why is it important to understand this concept?"
   ]
  },
  {
   "cell_type": "markdown",
   "id": "9e7bfb38-1985-4daa-940d-01a0fb42701c",
   "metadata": {},
   "source": [
    "The partitioning of variance in ANOVA refers to the decomposition of the total variance in a dataset into different sources or components of variation. It involves dividing the total sum of squares (SS) into distinct parts that represent different factors or sources of variation, allowing for a better understanding of the contributions of these factors to the overall variation in the data.\n",
    "\n",
    "The partitioning of variance is important in ANOVA for several reasons:\n",
    "\n",
    "Understanding the sources of variation: By partitioning the total variance, ANOVA helps identify and quantify the different sources of variation in the data. This allows researchers to assess the relative importance of each factor and understand their contributions to the overall variability observed in the dependent variable.\n",
    "\n",
    "Hypothesis testing: ANOVA uses the partitioned variance to perform hypothesis tests on the effects of different factors. It compares the magnitude of variation between groups (explained variation) with the variation within groups (unexplained variation) to determine if there are significant differences among the groups.\n",
    "\n",
    "Assessing the significance of factors: ANOVA provides information about the significance of the factors being analyzed. By comparing the variance attributed to each factor (explained variance) with the residual variance (unexplained variance), it helps determine if the observed differences among groups are statistically significant.\n",
    "\n",
    "Estimating effect sizes: Partitioning the variance allows for the estimation of effect sizes, such as the proportion of variance explained by each factor. This information provides insights into the practical significance or importance of the factors being examined.\n",
    "\n",
    "Design optimization: Understanding the partitioning of variance helps researchers in experimental design optimization. By identifying the most significant sources of variation, researchers can allocate resources more efficiently, control or reduce variability, and enhance the precision of their experiments."
   ]
  },
  {
   "cell_type": "code",
   "execution_count": null,
   "id": "a6d64c59-cde0-43c5-a001-cf5d98597e01",
   "metadata": {},
   "outputs": [],
   "source": []
  },
  {
   "cell_type": "markdown",
   "id": "bad4847e-0ddb-46ac-a046-86bcc33539e6",
   "metadata": {},
   "source": [
    "Q4. How would you calculate the total sum of squares (SST), explained sum of squares (SSE), and residual sum of squares (SSR) in a one-way ANOVA using Python?"
   ]
  },
  {
   "cell_type": "code",
   "execution_count": 1,
   "id": "a9dad0b4-a04f-4c73-b966-bd5976267589",
   "metadata": {},
   "outputs": [
    {
     "name": "stdout",
     "output_type": "stream",
     "text": [
      "SST: 339.7333333333333\n",
      "SSE: 302.5333333333333\n",
      "SSR: 37.19999999999999\n"
     ]
    }
   ],
   "source": [
    "import numpy as np\n",
    "from scipy import stats\n",
    "\n",
    "# Data for one-way ANOVA\n",
    "group1 = [10, 12, 15, 11, 14]\n",
    "group2 = [8, 6, 9, 7, 5]\n",
    "group3 = [18, 20, 17, 19, 16]\n",
    "\n",
    "# Combine the data into a single array\n",
    "data = np.concatenate([group1, group2, group3])\n",
    "\n",
    "# Calculate the overall mean\n",
    "overall_mean = np.mean(data)\n",
    "\n",
    "# Calculate the sum of squares total (SST)\n",
    "sst = np.sum((data - overall_mean) ** 2)\n",
    "\n",
    "# Calculate the sum of squares explained (SSE)\n",
    "group_means = [np.mean(group1), np.mean(group2), np.mean(group3)]\n",
    "sse = np.sum([len(group) * (mean - overall_mean) ** 2 for group, mean in zip([group1, group2, group3], group_means)])\n",
    "\n",
    "# Calculate the sum of squares residual (SSR)\n",
    "ssr = sst - sse\n",
    "\n",
    "print(\"SST:\", sst)\n",
    "print(\"SSE:\", sse)\n",
    "print(\"SSR:\", ssr)\n"
   ]
  },
  {
   "cell_type": "code",
   "execution_count": null,
   "id": "f022671a-8f02-4b23-a5e2-5a48667b6323",
   "metadata": {},
   "outputs": [],
   "source": []
  },
  {
   "cell_type": "markdown",
   "id": "62fc2cdd-a921-477b-a00a-25838be56ddb",
   "metadata": {},
   "source": [
    "Q5. In a two-way ANOVA, how would you calculate the main effects and interaction effects using Python?"
   ]
  },
  {
   "cell_type": "code",
   "execution_count": 2,
   "id": "2baf9009-d660-4a45-b185-935d8f5fe335",
   "metadata": {},
   "outputs": [
    {
     "name": "stdout",
     "output_type": "stream",
     "text": [
      "Main Effect (Factor 1): 0.1777777777777766\n",
      "Main Effect (Factor 2): 0.03174603174603146\n",
      "Interaction Effect: 0.8571428571428497\n"
     ]
    }
   ],
   "source": [
    "import numpy as np\n",
    "import pandas as pd\n",
    "import statsmodels.api as sm\n",
    "from statsmodels.formula.api import ols\n",
    "\n",
    "# Data for two-way ANOVA\n",
    "group1 = [10, 12, 15, 11, 14]\n",
    "group2 = [8, 6, 9, 7, 5]\n",
    "group3 = [18, 20, 17, 19, 16]\n",
    "\n",
    "factor1 = ['A', 'A', 'B', 'B', 'B']\n",
    "factor2 = ['X', 'Y', 'X', 'Y', 'X']\n",
    "\n",
    "# Combine the data into a dataframe\n",
    "data = pd.DataFrame({'Response': group1 + group2 + group3,\n",
    "                     'Factor1': factor1 * 3,\n",
    "                     'Factor2': factor2 * 3})\n",
    "\n",
    "# Fit the two-way ANOVA model\n",
    "model = ols('Response ~ Factor1 + Factor2 + Factor1:Factor2', data=data).fit()\n",
    "anova_table = sm.stats.anova_lm(model)\n",
    "\n",
    "# Extract main effects and interaction effect from the ANOVA table\n",
    "main_effect_factor1 = anova_table['sum_sq']['Factor1']\n",
    "main_effect_factor2 = anova_table['sum_sq']['Factor2']\n",
    "interaction_effect = anova_table['sum_sq']['Factor1:Factor2']\n",
    "\n",
    "print(\"Main Effect (Factor 1):\", main_effect_factor1)\n",
    "print(\"Main Effect (Factor 2):\", main_effect_factor2)\n",
    "print(\"Interaction Effect:\", interaction_effect)\n"
   ]
  },
  {
   "cell_type": "code",
   "execution_count": null,
   "id": "d5fef8a1-5fe2-428a-a6d4-7b0d04f650e9",
   "metadata": {},
   "outputs": [],
   "source": []
  },
  {
   "cell_type": "markdown",
   "id": "2bc7435b-c103-4c10-a243-0b3f0f1a3c30",
   "metadata": {},
   "source": [
    "Q6. Suppose you conducted a one-way ANOVA and obtained an F-statistic of 5.23 and a p-value of 0.02. What can you conclude about the differences between the groups, and how would you interpret these results?"
   ]
  },
  {
   "cell_type": "markdown",
   "id": "b93b315e-2a34-48e8-b3fc-a74fabb53ccf",
   "metadata": {},
   "source": [
    "In a one-way ANOVA, the F-statistic and the associated p-value are used to assess whether there are significant differences among the group means. In the given scenario, where the F-statistic is 5.23 and the p-value is 0.02, we can make the following conclusions:\n",
    "\n",
    "Significance of Differences: The obtained F-statistic of 5.23 indicates that there is some evidence of differences among the group means.\n",
    "\n",
    "Rejecting the Null Hypothesis: The p-value of 0.02 is less than the chosen significance level (usually 0.05). Thus, we reject the null hypothesis, which states that there are no significant differences among the group means. The results suggest that there are indeed significant differences between at least some of the groups.\n",
    "\n",
    "Interpretation of the p-value: The p-value of 0.02 indicates that the probability of obtaining a test statistic as extreme as the observed F-statistic, assuming the null hypothesis is true, is 0.02. In other words, if there were no true differences among the groups, we would expect to see a test statistic as extreme as the observed F-statistic only 2% of the time.\n",
    "\n",
    "Practical Significance: While the statistical analysis suggests significant differences, it is also important to consider the practical or substantive significance of the findings. The magnitude of the differences among the groups should be examined to determine their real-world importance."
   ]
  },
  {
   "cell_type": "code",
   "execution_count": null,
   "id": "6681577b-18c7-4fc0-ac3d-42f78c0f73f2",
   "metadata": {},
   "outputs": [],
   "source": []
  },
  {
   "cell_type": "markdown",
   "id": "75993422-bdb2-4da2-b80b-7ab4def01265",
   "metadata": {},
   "source": [
    "Q7. In a repeated measures ANOVA, how would you handle missing data, and what are the potential consequences of using different methods to handle missing data?"
   ]
  },
  {
   "cell_type": "markdown",
   "id": "89b31fa5-c7d3-400c-a0cd-280cfda53981",
   "metadata": {},
   "source": [
    "Handling missing data in a repeated measures ANOVA is an important consideration to ensure accurate and unbiased results. There are several methods commonly used to handle missing data, each with its own potential consequences. Here are a few commonly used approaches:\n",
    "\n",
    "Complete Case Analysis (Listwise deletion): This method involves excluding any participants with missing data from the analysis. While it is straightforward to implement, it can lead to reduced sample size and potential loss of statistical power. If the missing data are not missing completely at random (MCAR), this approach can introduce bias.\n",
    "\n",
    "Mean Imputation: Mean imputation replaces missing values with the mean value of the available data for that variable. It is a simple method but may result in underestimation of variances and correlations since it does not account for the uncertainty associated with the missing values. Additionally, mean imputation assumes that the missing values have the same mean as the observed values, which may not be appropriate in all cases.\n",
    "\n",
    "Last Observation Carried Forward (LOCF): LOCF imputes missing values with the last observed value for that participant. This method assumes that missing data remain constant over time. It can introduce bias if the missingness pattern is related to the underlying variable being measured.\n",
    "\n",
    "Multiple Imputation: Multiple imputation involves creating multiple plausible imputed datasets, accounting for the uncertainty of the missing values. The analysis is then performed on each imputed dataset, and the results are combined using appropriate rules. Multiple imputation provides unbiased estimates and properly accounts for the uncertainty associated with missing data. However, it can be computationally intensive and requires careful implementation.\n",
    "\n",
    "The potential consequences of using different methods to handle missing data include biased estimates, inflated or deflated standard errors, incorrect p-values, and distorted conclusions. The choice of method should be guided by the underlying missing data mechanism, assumptions about the missingness, and consideration of the potential biases introduced by each method."
   ]
  },
  {
   "cell_type": "code",
   "execution_count": null,
   "id": "9eb064e2-e773-4836-b842-f7225cd83586",
   "metadata": {},
   "outputs": [],
   "source": []
  },
  {
   "cell_type": "markdown",
   "id": "02d100e0-1c06-4378-9a14-7039c8c6336e",
   "metadata": {},
   "source": [
    "Q8. What are some common post-hoc tests used after ANOVA, and when would you use each one? Provide an example of a situation where a post-hoc test might be necessary."
   ]
  },
  {
   "cell_type": "markdown",
   "id": "8567e5c0-a729-4a67-841e-d37c879f1dc4",
   "metadata": {},
   "source": [
    "After conducting an ANOVA and finding a significant overall effect, post-hoc tests are often performed to examine pairwise comparisons between groups and determine which specific group means differ significantly from each other. Some common post-hoc tests used after ANOVA include:\n",
    "\n",
    "Tukey's Honestly Significant Difference (HSD): Tukey's HSD test is widely used and controls the family-wise error rate, making it suitable for multiple comparisons. It compares all possible pairs of group means and identifies significant differences while taking into account the overall Type I error rate. Tukey's HSD test is appropriate when you have equal sample sizes and homogeneous variances.\n",
    "\n",
    "Bonferroni correction: The Bonferroni correction adjusts the significance level for each individual comparison to control the family-wise error rate. It divides the desired significance level (e.g., 0.05) by the number of comparisons to obtain a more stringent alpha level for each test. The Bonferroni correction is conservative but provides strong control over the Type I error rate. It is suitable when there are a small number of planned comparisons.\n",
    "\n",
    "Scheffé's method: Scheffé's method is a conservative post-hoc test that provides control over the family-wise error rate, making it appropriate for a large number of comparisons. It accounts for unequal sample sizes and variances. However, Scheffé's method tends to be less powerful compared to other post-hoc tests.\n",
    "\n",
    "Fisher's Least Significant Difference (LSD): Fisher's LSD test is the least conservative post-hoc test and does not require equal sample sizes or homogeneous variances. It compares pairs of group means and identifies significant differences. However, Fisher's LSD test does not control the family-wise error rate, which may increase the chance of Type I errors.\n",
    "\n",
    "The choice of post-hoc test depends on factors such as sample sizes, variances, and the desired balance between controlling the family-wise error rate and maximizing power. It is important to select a post-hoc test that is appropriate for the specific research question and study design.\n",
    "\n",
    "Example:\n",
    "Suppose a researcher conducts a study examining the effects of different exercise interventions on cardiovascular fitness. The researcher measures the fitness level (continuous dependent variable) in four groups: Group A (control), Group B (intervention 1), Group C (intervention 2), and Group D (intervention 3). After conducting an ANOVA and finding a significant overall effect, a post-hoc test would be necessary to compare the specific group means. For example, Tukey's HSD test could be used to determine if there are significant differences between any of the intervention groups or between the intervention groups and the control group. This would provide a more detailed understanding of which interventions lead to significantly different fitness levels compared to others."
   ]
  },
  {
   "cell_type": "code",
   "execution_count": null,
   "id": "58fa213a-e334-4ad0-9057-c2c71721dfca",
   "metadata": {},
   "outputs": [],
   "source": []
  },
  {
   "cell_type": "markdown",
   "id": "96fb2a20-3ce5-4a4e-8898-7b8c58eec718",
   "metadata": {},
   "source": [
    "Q9. A researcher wants to compare the mean weight loss of three diets: A, B, and C. They collect data from 50 participants who were randomly assigned to one of the diets. Conduct a one-way ANOVA using Python to determine if there are any significant differences between the mean weight loss of the three diets. Report the F-statistic and p-value, and interpret the results."
   ]
  },
  {
   "cell_type": "code",
   "execution_count": 3,
   "id": "836e580f-1100-4312-bf49-3735a5ffe312",
   "metadata": {},
   "outputs": [
    {
     "name": "stdout",
     "output_type": "stream",
     "text": [
      "F-statistic: 153.1891368604358\n",
      "p-value: 1.1167663555664372e-36\n",
      "There are significant differences between the mean weight loss of the three diets.\n"
     ]
    }
   ],
   "source": [
    "from scipy import stats\n",
    "import numpy as np\n",
    "\n",
    "# Data for one-way ANOVA\n",
    "diet_A = [2.1, 3.2, 4.5, 1.9, 2.8, 3.1, 2.6, 2.7, 2.2, 2.9,\n",
    "          3.7, 3.3, 2.8, 3.0, 2.5, 2.6, 3.2, 2.9, 2.4, 3.5,\n",
    "          3.2, 2.7, 2.8, 2.6, 2.9, 3.1, 2.4, 2.7, 2.5, 2.6,\n",
    "          2.9, 3.2, 2.8, 2.7, 3.1, 2.8, 2.6, 2.7, 3.0, 2.8,\n",
    "          2.9, 2.5, 3.1, 2.8, 2.6, 3.3, 3.1, 3.2, 2.6, 2.8]\n",
    "diet_B = [2.6, 3.8, 4.2, 3.1, 2.5, 3.2, 3.6, 3.9, 2.7, 3.3,\n",
    "          2.9, 3.1, 3.7, 3.4, 3.0, 3.5, 3.3, 3.1, 2.8, 3.2,\n",
    "          3.6, 3.4, 2.9, 3.2, 3.1, 3.5, 3.8, 3.2, 3.6, 3.7,\n",
    "          3.4, 3.1, 3.2, 3.5, 3.4, 3.6, 3.8, 3.2, 3.5, 3.1,\n",
    "          3.4, 3.2, 3.6, 3.1, 3.4, 3.7, 3.5, 3.3, 3.2, 3.6]\n",
    "diet_C = [3.9, 4.2, 4.5, 3.5, 3.2, 4.0, 3.8, 4.3, 4.4, 3.7,\n",
    "          4.0, 3.8, 4.1, 3.9, 4.2, 4.0, 4.4, 3.8, 4.3, 4.1,\n",
    "          3.7, 4.2, 4.0, 4.3, 4.1, 3.9, 4.0, 4.4, 4.2, 4.3,\n",
    "          4.0, 3.7, 4.1, 3.8, 4.4, 4.2, 4.0, 4.3, 3.9, 4.1,\n",
    "          4.2, 4.0, 3.7, 4.1, 4.4, 4.3, 3.9, 4.2, 4.0, 4.3]\n",
    "\n",
    "# Combine the data into a single array\n",
    "data = np.concatenate([diet_A, diet_B, diet_C])\n",
    "\n",
    "# Create a corresponding group variable\n",
    "groups = ['A'] * len(diet_A) + ['B'] * len(diet_B) + ['C'] * len(diet_C)\n",
    "\n",
    "# Perform one-way ANOVA\n",
    "f_statistic, p_value = stats.f_oneway(diet_A, diet_B, diet_C)\n",
    "\n",
    "# Print the results\n",
    "print(\"F-statistic:\", f_statistic)\n",
    "print(\"p-value:\", p_value)\n",
    "\n",
    "if p_value < 0.05:\n",
    "    print(\"There are significant differences between the mean weight loss of the three diets.\")\n",
    "else:\n",
    "    print(\"There are no significant differences between the mean weight loss of the three diets.\")\n"
   ]
  },
  {
   "cell_type": "code",
   "execution_count": null,
   "id": "0d076900-1d6a-447b-b1a9-b9b9c70b272a",
   "metadata": {},
   "outputs": [],
   "source": []
  },
  {
   "cell_type": "markdown",
   "id": "767de880-c8d6-459e-a185-57fc4d02d07f",
   "metadata": {},
   "source": [
    "Q10. A company wants to know if there are any significant differences in the average time it takes to complete a task using three different software programs: Program A, Program B, and Program C. They randomly assign 30 employees to one of the programs and record the time it takes each employee to complete the task. Conduct a two-way ANOVA using Python to determine if there are any main effects or interaction effects between the software programs and employee experience level (novice vs.experienced). Report the F-statistics and p-values, and interpret the results."
   ]
  },
  {
   "cell_type": "code",
   "execution_count": 12,
   "id": "0a1a4bde-b8fe-4d6a-9612-320fcc0633fa",
   "metadata": {},
   "outputs": [
    {
     "name": "stdout",
     "output_type": "stream",
     "text": [
      "                       sum_sq    df         F    PR(>F)\n",
      "Program             13.347595   2.0  1.734706  0.197853\n",
      "Experience           1.036484   1.0  0.269411  0.608481\n",
      "Program:Experience   0.185738   2.0  0.024139  0.976173\n",
      "Residual            92.333333  24.0       NaN       NaN\n"
     ]
    }
   ],
   "source": [
    "import pandas as pd\n",
    "import statsmodels.api as sm\n",
    "from statsmodels.formula.api import ols\n",
    "\n",
    "# Create a sample dataset with task completion times, software programs, and experience levels\n",
    "data = {\n",
    "    'Time': [12, 10, 8, 9, 11, 13, 14, 15, 13, 12, 9, 8, 10, 11, 12, 13, 14, 11, 10, 9, 10, 12, 11, 13, 10, 9, 8, 11, 12, 13],\n",
    "    'Program': ['A', 'A', 'A', 'B', 'B', 'B', 'C', 'C', 'C', 'A', 'A', 'A', 'B', 'B', 'B', 'C', 'C', 'C', 'A', 'A', 'A', 'B', 'B', 'B', 'C', 'C', 'C', 'A', 'A', 'A'],\n",
    "    'Experience': ['Novice', 'Experienced'] * 15\n",
    "}\n",
    "\n",
    "df = pd.DataFrame(data)\n",
    "\n",
    "# Convert the Experience column to categorical\n",
    "df['Experience'] = pd.Categorical(df['Experience'])\n",
    "\n",
    "# Perform two-way ANOVA\n",
    "model = ols('Time ~ Program + Experience + Program:Experience', data=df).fit()\n",
    "anova_table = sm.stats.anova_lm(model, typ=2)\n",
    "\n",
    "# Print the ANOVA table\n",
    "print(anova_table)\n"
   ]
  },
  {
   "cell_type": "code",
   "execution_count": null,
   "id": "3833be9f-4b5a-473c-8676-c1349a3cf46d",
   "metadata": {},
   "outputs": [],
   "source": []
  },
  {
   "cell_type": "markdown",
   "id": "266249bf-e466-41cc-80b1-e56f1a101f9f",
   "metadata": {},
   "source": [
    "Q11. An educational researcher is interested in whether a new teaching method improves student test scores. They randomly assign 100 students to either the control group (traditional teaching method) or the experimental group (new teaching method) and administer a test at the end of the semester. Conduct a two-sample t-test using Python to determine if there are any significant differences in test scores between the two groups. If the results are significant, follow up with a post-hoc test to determine which group(s) differ significantly from each other."
   ]
  },
  {
   "cell_type": "code",
   "execution_count": 6,
   "id": "6ce2b1c4-2bfa-4f0a-bf35-c0b05e79f025",
   "metadata": {},
   "outputs": [
    {
     "name": "stdout",
     "output_type": "stream",
     "text": [
      "t-statistic: -10.679040278962674\n",
      "p-value: 4.089365508069097e-18\n",
      "There is a significant difference in test scores between the two groups.\n"
     ]
    }
   ],
   "source": [
    "from scipy import stats\n",
    "import numpy as np\n",
    "\n",
    "# Data for two-sample t-test\n",
    "control_group = [75, 80, 78, 72, 85, 82, 79, 88, 76, 81,\n",
    "                 77, 83, 79, 86, 84, 79, 82, 80, 75, 78,\n",
    "                 83, 81, 80, 79, 77, 85, 78, 82, 79, 76,\n",
    "                 81, 80, 83, 77, 79, 75, 82, 78, 80, 81,\n",
    "                 76, 83, 78, 80, 82, 75, 77, 79, 81, 83]\n",
    "\n",
    "experimental_group = [84, 86, 82, 88, 92, 85, 83, 90, 87, 89,\n",
    "                      82, 85, 86, 88, 87, 90, 83, 85, 84, 86,\n",
    "                      88, 85, 87, 90, 82, 85, 86, 84, 83, 88,\n",
    "                      89, 85, 83, 84, 87, 90, 86, 85, 88, 89,\n",
    "                      83, 82, 85, 87, 88, 84, 86, 89, 83, 85]\n",
    "\n",
    "# Perform two-sample t-test\n",
    "t_statistic, p_value = stats.ttest_ind(control_group, experimental_group)\n",
    "\n",
    "# Print the results\n",
    "print(\"t-statistic:\", t_statistic)\n",
    "print(\"p-value:\", p_value)\n",
    "\n",
    "if p_value < 0.05:\n",
    "    print(\"There is a significant difference in test scores between the two groups.\")\n",
    "else:\n",
    "    print(\"There is no significant difference in test scores between the two groups.\")\n",
    "\n"
   ]
  },
  {
   "cell_type": "code",
   "execution_count": null,
   "id": "5620bb7f-54e4-464f-8630-0d4ef0110ea5",
   "metadata": {},
   "outputs": [],
   "source": []
  },
  {
   "cell_type": "markdown",
   "id": "23b247dc-ae16-4ade-93ff-7d507886664d",
   "metadata": {},
   "source": [
    "Q12. A researcher wants to know if there are any significant differences in the average daily sales of three retail stores: Store A, Store B, and Store C. They randomly select 30 days and record the sales for each store on those days. Conduct a repeated measures ANOVA using Python to determine if there are any significant differences in sales between the three stores. If the results are significant, follow up with a posthoc test to determine which store(s) differ significantly from each other."
   ]
  },
  {
   "cell_type": "code",
   "execution_count": 9,
   "id": "a86194e4-590a-4aa8-a41c-9a794c2f3dc3",
   "metadata": {},
   "outputs": [
    {
     "name": "stdout",
     "output_type": "stream",
     "text": [
      "               Anova\n",
      "===================================\n",
      "      F Value Num DF  Den DF Pr > F\n",
      "-----------------------------------\n",
      "Store 74.0602 2.0000 58.0000 0.0000\n",
      "===================================\n",
      "\n"
     ]
    }
   ],
   "source": [
    "import pandas as pd\n",
    "import statsmodels.api as sm\n",
    "from statsmodels.formula.api import ols\n",
    "from statsmodels.stats.anova import AnovaRM\n",
    "\n",
    "# Data for repeated measures ANOVA\n",
    "store_a = [100, 110, 105, 120, 115, 105, 110, 125, 130, 120,\n",
    "           115, 110, 125, 115, 120, 130, 125, 110, 105, 120,\n",
    "           110, 105, 125, 120, 115, 110, 125, 130, 120, 115]\n",
    "store_b = [90, 95, 100, 105, 110, 115, 100, 95, 90, 105,\n",
    "           110, 115, 100, 105, 90, 95, 100, 105, 110, 115,\n",
    "           100, 95, 90, 105, 110, 115, 100, 105, 90, 95]\n",
    "store_c = [80, 85, 90, 95, 100, 85, 80, 90, 95, 100,\n",
    "           105, 80, 85, 90, 95, 100, 85, 80, 90, 95,\n",
    "           100, 105, 80, 85, 90, 95, 100, 85, 80, 90]\n",
    "\n",
    "# Create a pandas DataFrame\n",
    "data = pd.DataFrame({'Day': list(range(30)) * 3,\n",
    "                     'Sales': store_a + store_b + store_c,\n",
    "                     'Store': ['A'] * 30 + ['B'] * 30 + ['C'] * 30})\n",
    "\n",
    "# Fit the repeated measures ANOVA model\n",
    "model = AnovaRM(data, 'Sales', 'Day', within=['Store']).fit()\n",
    "\n",
    "# Print the ANOVA table\n",
    "print(model.summary())\n",
    "\n"
   ]
  },
  {
   "cell_type": "code",
   "execution_count": null,
   "id": "c1907ed4-8244-4145-a17a-4ca59b7a24d6",
   "metadata": {},
   "outputs": [],
   "source": []
  },
  {
   "cell_type": "code",
   "execution_count": null,
   "id": "78a022ea-081f-4f97-9d89-21d9786c038f",
   "metadata": {},
   "outputs": [],
   "source": []
  },
  {
   "cell_type": "code",
   "execution_count": null,
   "id": "86169d57-7383-4d8e-9727-c36d7fadd2a9",
   "metadata": {},
   "outputs": [],
   "source": []
  },
  {
   "cell_type": "code",
   "execution_count": null,
   "id": "ed49d175-8dde-4421-b8c9-6d27197be85c",
   "metadata": {},
   "outputs": [],
   "source": []
  },
  {
   "cell_type": "code",
   "execution_count": null,
   "id": "d367db84-2703-4c3e-a874-ed7ce86da5a3",
   "metadata": {},
   "outputs": [],
   "source": []
  },
  {
   "cell_type": "code",
   "execution_count": null,
   "id": "2023767f-f131-41d4-b05a-2300e6dc05ea",
   "metadata": {},
   "outputs": [],
   "source": []
  },
  {
   "cell_type": "code",
   "execution_count": null,
   "id": "708a17cb-3552-4e21-85c2-e809ded831a8",
   "metadata": {},
   "outputs": [],
   "source": []
  },
  {
   "cell_type": "code",
   "execution_count": null,
   "id": "c360f361-6b77-457a-8df9-b839770df309",
   "metadata": {},
   "outputs": [],
   "source": []
  },
  {
   "cell_type": "code",
   "execution_count": null,
   "id": "4dbee9d2-57dd-4eaa-bbf5-505f98db6b21",
   "metadata": {},
   "outputs": [],
   "source": []
  },
  {
   "cell_type": "code",
   "execution_count": null,
   "id": "13fe38ac-d68c-4b5d-90ee-ea3b39893ade",
   "metadata": {},
   "outputs": [],
   "source": []
  }
 ],
 "metadata": {
  "kernelspec": {
   "display_name": "Python 3 (ipykernel)",
   "language": "python",
   "name": "python3"
  },
  "language_info": {
   "codemirror_mode": {
    "name": "ipython",
    "version": 3
   },
   "file_extension": ".py",
   "mimetype": "text/x-python",
   "name": "python",
   "nbconvert_exporter": "python",
   "pygments_lexer": "ipython3",
   "version": "3.10.8"
  }
 },
 "nbformat": 4,
 "nbformat_minor": 5
}
