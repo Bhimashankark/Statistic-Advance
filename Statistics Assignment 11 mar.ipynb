{
 "cells": [
  {
   "cell_type": "markdown",
   "id": "194b4bcb-fe70-4b1d-852f-d01a9e85a30f",
   "metadata": {},
   "source": [
    "## ASSIGNMENT ON STATISTICS ADVANCE"
   ]
  },
  {
   "cell_type": "code",
   "execution_count": null,
   "id": "f69dd748-622c-4853-a534-481e9957348f",
   "metadata": {},
   "outputs": [],
   "source": [
    "Q1: What is the difference between a t-test and a z-test? Provide an example scenario where you would use each type of test."
   ]
  },
  {
   "cell_type": "markdown",
   "id": "59c99ba5-1a0c-47d3-8cb4-179582007812",
   "metadata": {},
   "source": [
    "t-test:\n",
    "\n",
    "Assumption: The t-test assumes that the population standard deviation is unknown and needs to be estimated from the sample data. It is suitable for small sample sizes (typically less than 30) or when the population standard deviation is not available.\n",
    "Example Scenario: Suppose you want to compare the mean heights of two groups of students, where you have sample data with unknown population standard deviations. In this case, you would use a t-test to determine if there is a significant difference between the means of the two groups.\n",
    "\n",
    "z-test:\n",
    "\n",
    "Assumption: The z-test assumes that the population standard deviation is known or when the sample size is large (typically greater than 30). It relies on the standard normal distribution.\n",
    "Example Scenario: Consider a situation where you have a large sample size and you want to determine if the mean score of a standardized test is significantly different from a population mean. Since you have a large sample size and know the population standard deviation (which is rarely the case), you can use a z-test to compare the sample mean to the population mean."
   ]
  },
  {
   "cell_type": "code",
   "execution_count": null,
   "id": "e163f435-a407-4d40-8c6b-7479db2d5dfc",
   "metadata": {},
   "outputs": [],
   "source": []
  },
  {
   "cell_type": "markdown",
   "id": "9db07b86-a511-4a7e-97f7-d646f0bda8b1",
   "metadata": {},
   "source": [
    "Q2: Differentiate between one-tailed and two-tailed tests."
   ]
  },
  {
   "cell_type": "markdown",
   "id": "bae2f842-85cf-4a75-967d-cd17064e17eb",
   "metadata": {},
   "source": [
    "One-tailed and two-tailed tests refer to the directionality of the hypothesis being tested and the corresponding critical region in hypothesis testing.\n",
    "\n",
    "One-tailed test (also known as a directional test):\n",
    "\n",
    "Hypothesis: In a one-tailed test, the null hypothesis (H0) and the alternative hypothesis (HA) are formulated in a way that specifies a specific direction of the effect or relationship being tested.\n",
    "Critical Region: The critical region for a one-tailed test is located entirely in one tail of the distribution, either the left tail or the right tail, depending on the specified direction of the hypothesis.\n",
    "Example: Suppose you hypothesize that a new treatment will improve test scores, and you only want to detect if there is an increase in scores. In this case, you would use a one-tailed test with the critical region in the right tail of the distribution.\n",
    "\n",
    "Two-tailed test (also known as a non-directional test):\n",
    "\n",
    "Hypothesis: In a two-tailed test, the null hypothesis (H0) and the alternative hypothesis (HA) are formulated in a way that allows for a difference or effect in either direction.\n",
    "Critical Region: The critical region for a two-tailed test is divided into two tails of the distribution, usually equally distributed in the left and right tails.\n",
    "Example: Consider a scenario where you want to test if a new teaching method affects test scores, without specifying the direction of the effect. In this case, you would use a two-tailed test with the critical region divided between the left and right tails."
   ]
  },
  {
   "cell_type": "code",
   "execution_count": null,
   "id": "ebd1193d-d7e7-4297-b8ef-aca318368cc4",
   "metadata": {},
   "outputs": [],
   "source": []
  },
  {
   "cell_type": "markdown",
   "id": "28d2b087-ecd0-4fda-a111-501499bfaad8",
   "metadata": {},
   "source": [
    "Q3: Explain the concept of Type 1 and Type 2 errors in hypothesis testing. Provide an example scenario for each type of error."
   ]
  },
  {
   "cell_type": "markdown",
   "id": "35747f1b-b5d7-4837-9d06-bafd00237cde",
   "metadata": {},
   "source": [
    "n hypothesis testing, Type 1 and Type 2 errors are two types of mistakes that can occur when making decisions based on the results of a hypothesis test.\n",
    "\n",
    "Type 1 Error (False Positive):\n",
    "\n",
    "Definition: A Type 1 error occurs when the null hypothesis (H0) is rejected when it is actually true. In other words, it is the incorrect rejection of a true null hypothesis.\n",
    "Significance: Type 1 errors are considered false positives, as they lead to the conclusion that there is a significant effect or relationship when there is none in reality.\n",
    "Example Scenario: Suppose a medical researcher is testing a new drug for a specific disease. The null hypothesis is that the drug has no effect on the disease. However, due to statistical fluctuations or other factors, the researcher incorrectly rejects the null hypothesis and concludes that the drug is effective when it is not. This would be a Type 1 error.\n",
    "\n",
    "Type 2 Error (False Negative):\n",
    "\n",
    "Definition: A Type 2 error occurs when the null hypothesis (H0) is failed to be rejected when it is actually false. In other words, it is the incorrect acceptance of a false null hypothesis.\n",
    "Significance: Type 2 errors are considered false negatives, as they lead to the conclusion that there is no significant effect or relationship when there actually is one.\n",
    "Example Scenario: Continuing with the previous example, suppose the new drug is indeed effective in treating the disease, but due to small sample size or other limitations, the researcher fails to detect the effect and fails to reject the null hypothesis. As a result, the researcher concludes that the drug is not effective, leading to a Type 2 error."
   ]
  },
  {
   "cell_type": "code",
   "execution_count": null,
   "id": "3b1bf049-bf6d-4548-8c57-1c6d252a430a",
   "metadata": {},
   "outputs": [],
   "source": []
  },
  {
   "cell_type": "code",
   "execution_count": null,
   "id": "830519ce-e19a-46bf-b826-5f2f2d2b49fb",
   "metadata": {},
   "outputs": [],
   "source": [
    "Q4: Explain Bayes's theorem with an example."
   ]
  },
  {
   "cell_type": "code",
   "execution_count": null,
   "id": "ddbc5f70-ac00-4b9d-9182-e7336bc83d84",
   "metadata": {},
   "outputs": [],
   "source": [
    "Bayes's theorem is a fundamental concept in probability theory and statistics that allows us to update our beliefs or probabilities based on new evidence. It relates the conditional probability of an event given prior knowledge to the probability of the prior knowledge given the event. Bayes's theorem is named after the Reverend Thomas Bayes, an 18th-century British statistician and philosopher.\n",
    "\n",
    "The general form of Bayes's theorem is as follows:\n",
    "\n",
    "P(A|B) = (P(B|A) * P(A)) / P(B)\n",
    "\n",
    "Where:\n",
    "\n",
    "P(A|B) represents the probability of event A given event B has occurred.\n",
    "P(B|A) represents the probability of event B given event A has occurred.\n",
    "P(A) and P(B) represent the probabilities of event A and event B, respectively.\n",
    "To understand Bayes's theorem better, let's consider a simple example:\n",
    "\n",
    "Example: Medical Test for a Rare Disease\n",
    "Suppose there is a rare disease that affects 1 in every 1000 people in a population. A diagnostic test has been developed to detect this disease, which is 99% accurate, meaning it correctly identifies the disease in 99% of the cases and gives a false positive in 1% of the cases. If a randomly chosen person tests positive for the disease, what is the probability that they actually have the disease?\n",
    "\n",
    "Let's define the events:\n",
    "A: Having the disease\n",
    "B: Testing positive for the disease\n",
    "\n",
    "We are given:\n",
    "P(A) = 1/1000 (the prior probability of having the disease)\n",
    "P(B|A) = 0.99 (the probability of testing positive given having the disease)\n",
    "P(B|not A) = 0.01 (the probability of testing positive given not having the disease)\n",
    "\n",
    "We want to find:\n",
    "P(A|B) (the probability of having the disease given testing positive)\n",
    "\n",
    "Using Bayes's theorem, we can calculate it as follows:\n",
    "\n",
    "P(A|B) = (P(B|A) * P(A)) / P(B)\n",
    "= (0.99 * 1/1000) / [(0.99 * 1/1000) + (0.01 * 999/1000)]\n",
    "≈ 0.0909"
   ]
  },
  {
   "cell_type": "code",
   "execution_count": null,
   "id": "2fb2a135-b512-4b76-9df4-f7e761d38dc5",
   "metadata": {},
   "outputs": [],
   "source": []
  },
  {
   "cell_type": "code",
   "execution_count": null,
   "id": "3dfa64aa-6fd9-4a52-8ca8-0f8f77b3a52d",
   "metadata": {},
   "outputs": [],
   "source": [
    "Q5: What is a confidence interval? How to calculate the confidence interval, explain with an example."
   ]
  },
  {
   "cell_type": "markdown",
   "id": "b6372208-c617-49a2-9d6f-eb93cce99403",
   "metadata": {},
   "source": [
    "A confidence interval is a range of values that provides an estimate of the plausible range for an unknown population parameter, such as the mean or proportion. It provides a measure of the uncertainty associated with the estimate, taking into account the variability in the sample data.\n",
    "\n",
    "The confidence interval is typically expressed as a range of values with an associated level of confidence. For example, a 95% confidence interval means that if we were to repeat the sampling process multiple times and construct confidence intervals for each sample, approximately 95% of those intervals would contain the true population parameter.\n",
    "\n",
    "The calculation of a confidence interval depends on the type of parameter being estimated (mean, proportion, etc.) and the distributional assumptions made. Here, we'll provide an example of calculating a confidence interval for the population mean.\n",
    "\n",
    "Example: Confidence Interval for Population Mean\n",
    "Suppose we want to estimate the average height of a certain population. We take a random sample of 100 individuals from that population and measure their heights. The sample mean height is 170 cm, and the sample standard deviation is 5 cm. We want to calculate a 95% confidence interval for the population mean height.\n",
    "\n",
    "The formula for a confidence interval for the population mean is:\n",
    "Confidence Interval = Sample Mean ± Margin of Error\n",
    "\n",
    "Calculate the Margin of Error:\n",
    "The margin of error depends on the desired level of confidence and the standard deviation of the sample. In this example, with a 95% confidence level, we will use a critical value from the t-distribution. For simplicity, let's assume a large sample size, so we can approximate the t-distribution with the standard normal distribution.\n",
    "Critical value for a 95% confidence level with a standard normal distribution: ±1.96\n",
    "\n",
    "Margin of Error = Critical Value * (Standard Deviation / √Sample Size)\n",
    "Margin of Error = 1.96 * (5 / √100)\n",
    "Margin of Error = 1.96 * 0.5\n",
    "Margin of Error = 0.98\n",
    "\n",
    "Calculate the Confidence Interval:\n",
    "Confidence Interval = Sample Mean ± Margin of Error\n",
    "Confidence Interval = 170 ± 0.98\n",
    "The 95% confidence interval for the population mean height is approximately 169.02 cm to 170.98 cm. This means that we can be 95% confident that the true average height of the population lies within this interval.\n",
    "\n",
    "Interpretation: If we were to repeat the sampling process multiple times and construct confidence intervals for each sample, approximately 95% of those intervals would capture the true average height of the population."
   ]
  },
  {
   "cell_type": "code",
   "execution_count": null,
   "id": "40d5e5e8-9c1e-4b6c-8cd8-63f9d24919bb",
   "metadata": {},
   "outputs": [],
   "source": []
  },
  {
   "cell_type": "markdown",
   "id": "6c8ec873-6759-4742-a581-d7e61bf5d828",
   "metadata": {},
   "source": [
    "Q6. Use Bayes' Theorem to calculate the probability of an event occurring given prior knowledge of the event's probability and new evidence. Provide a sample problem and solution."
   ]
  },
  {
   "cell_type": "markdown",
   "id": "0c6f0004-e7b2-48ed-a2ca-850be1920263",
   "metadata": {},
   "source": [
    "Certainly! Let's consider a sample problem to demonstrate the calculation of the probability of an event occurring using Bayes' Theorem.\n",
    "\n",
    "Problem:\n",
    "A company produces electronic devices, and quality control tests show that 5% of the devices are defective. The company also knows that, out of the defective devices, the test correctly identifies 90% as defective. However, the test has a false positive rate of 3%, meaning that it incorrectly identifies 3% of the non-defective devices as defective. If a randomly chosen device tests positive for being defective, what is the probability that it is actually defective?\n",
    "\n",
    "Let's define the events:\n",
    "A: The device is defective\n",
    "B: The device tests positive for being defective\n",
    "\n",
    "Given:\n",
    "P(A) = 0.05 (prior probability of a device being defective)\n",
    "P(B|A) = 0.90 (probability of a positive test given the device is defective)\n",
    "P(B|not A) = 0.03 (probability of a positive test given the device is not defective)\n",
    "\n",
    "We want to find:\n",
    "P(A|B) (probability that the device is defective given a positive test result)\n",
    "\n",
    "Using Bayes' Theorem, we can calculate it as follows:\n",
    "\n",
    "P(A|B) = (P(B|A) * P(A)) / P(B)\n",
    "= (0.90 * 0.05) / [(0.90 * 0.05) + (0.03 * 0.95)]\n",
    "≈ 0.321\n",
    "\n",
    "So, if a device tests positive for being defective, the probability that it is actually defective is approximately 0.321 or 32.1%."
   ]
  },
  {
   "cell_type": "code",
   "execution_count": null,
   "id": "6e30fd38-2811-469d-8ef0-414de8409058",
   "metadata": {},
   "outputs": [],
   "source": []
  },
  {
   "cell_type": "markdown",
   "id": "ab54d8c7-feb5-4e85-9bc6-64c2435a55d6",
   "metadata": {},
   "source": [
    "Q7. Calculate the 95% confidence interval for a sample of data with a mean of 50 and a standard deviation of 5. Interpret the results."
   ]
  },
  {
   "cell_type": "markdown",
   "id": "1e2679d1-a34e-4bcc-b793-d9ad3792f459",
   "metadata": {},
   "source": [
    "To calculate the 95% confidence interval for a sample of data with a mean of 50 and a standard deviation of 5, we will use the formula:\n",
    "\n",
    "Confidence Interval = Sample Mean ± (Critical Value * Standard Error)\n",
    "\n",
    "The critical value corresponds to the desired level of confidence and depends on the sample size. For a 95% confidence level with a large sample size (approximating a normal distribution), the critical value is approximately 1.96.\n",
    "\n",
    "The standard error is the standard deviation of the sample divided by the square root of the sample size:\n",
    "\n",
    "Standard Error = Standard Deviation / √Sample Size\n",
    "\n",
    "Let's calculate the confidence interval:\n",
    "\n",
    "Standard Error = 5 / √n, assuming a given sample size 'n'\n",
    "\n",
    "For a 95% confidence level, the critical value is 1.96.\n",
    "\n",
    "Sample Mean = 50\n",
    "Standard Deviation = 5\n",
    "Sample Size = n\n",
    "\n",
    "Substituting the values into the formula:\n",
    "\n",
    "Standard Error = 5 / √n\n",
    "\n",
    "Confidence Interval = 50 ± (1.96 * (5 / √n))\n",
    "\n",
    "To obtain the confidence interval, we need to know the sample size (n). Please provide the sample size so that we can calculate the specific confidence interval for your data."
   ]
  },
  {
   "cell_type": "code",
   "execution_count": null,
   "id": "a3c7001c-bba4-4f67-957e-ef05896a6896",
   "metadata": {},
   "outputs": [],
   "source": []
  },
  {
   "cell_type": "markdown",
   "id": "b9a84aec-15ce-447c-b430-48085c4d4e79",
   "metadata": {},
   "source": [
    "Q8. What is the margin of error in a confidence interval? How does sample size affect the margin of error? Provide an example of a scenario where a larger sample size would result in a smaller margin of error."
   ]
  },
  {
   "cell_type": "markdown",
   "id": "f63e36e9-e32f-4f1b-81d8-dd81a7518277",
   "metadata": {},
   "source": [
    "The margin of error in a confidence interval is a measure of the uncertainty associated with the estimate of a population parameter. It represents the maximum amount by which the estimate is likely to differ from the true population value. In other words, it defines the range within which we can reasonably expect the true population parameter to fall.\n",
    "\n",
    "The margin of error is influenced by several factors, including the desired level of confidence, the variability of the data, and the sample size. A larger margin of error indicates a wider confidence interval and greater uncertainty in the estimate, while a smaller margin of error indicates a narrower confidence interval and higher precision in the estimate.\n",
    "\n",
    "Sample size has a direct impact on the margin of error. As the sample size increases, the margin of error decreases. This is because a larger sample size provides more information and reduces the variability in the estimates.\n",
    "\n",
    "Here's an example to illustrate the effect of sample size on the margin of error:\n",
    "\n",
    "Suppose you want to estimate the average time spent by customers on a website. You collect data from a sample of 100 customers and calculate a 95% confidence interval for the population mean time spent. The margin of error is determined by the sample size, standard deviation, and desired level of confidence.\n",
    "\n",
    "Now, let's imagine you collect data from an additional 100 customers, resulting in a sample size of 200. Everything else remains the same, including the standard deviation and the desired level of confidence.\n",
    "\n",
    "Comparing the two scenarios:\n",
    "\n",
    "Scenario 1: Sample size of 100\n",
    "Scenario 2: Sample size of 200\n",
    "The margin of error will be smaller in Scenario 2 (sample size of 200) compared to Scenario 1 (sample size of 100). The larger sample size in Scenario 2 provides more data points and reduces the sampling variability, resulting in a more precise estimate and a narrower confidence interval."
   ]
  },
  {
   "cell_type": "code",
   "execution_count": null,
   "id": "60039294-0d5d-4c96-8cef-1daf4b86ee46",
   "metadata": {},
   "outputs": [],
   "source": []
  },
  {
   "cell_type": "markdown",
   "id": "f4bf4977-39d0-4d09-8b3c-be6f07f28836",
   "metadata": {},
   "source": [
    "Q9. Calculate the z-score for a data point with a value of 75, a population mean of 70, and a population standard deviation of 5. Interpret the results."
   ]
  },
  {
   "cell_type": "markdown",
   "id": "fbb451e8-2f35-4192-92c2-66acfc471eb4",
   "metadata": {},
   "source": [
    "To calculate the z-score for a data point, we use the formula:\n",
    "\n",
    "z = (x - μ) / σ\n",
    "\n",
    "Where:\n",
    "\n",
    "z is the z-score\n",
    "x is the value of the data point\n",
    "μ is the population mean\n",
    "σ is the population standard deviation\n",
    "Given:\n",
    "\n",
    "Data point value (x) = 75\n",
    "Population mean (μ) = 70\n",
    "Population standard deviation (σ) = 5\n",
    "Substituting the values into the formula:\n",
    "\n",
    "z = (75 - 70) / 5\n",
    "z = 5 / 5\n",
    "z = 1\n",
    "\n",
    "The calculated z-score for the data point with a value of 75, a population mean of 70, and a population standard deviation of 5 is 1.\n",
    "\n",
    "Interpretation:\n",
    "The positive z-score of 1 indicates that the data point is 1 standard deviation above the population mean. In other words, the value of 75 is higher than the average value (mean) of 70 by one standard deviation. The z-score allows us to compare the data point to the overall distribution of the data by expressing its distance from the mean in terms of standard deviations."
   ]
  },
  {
   "cell_type": "code",
   "execution_count": null,
   "id": "ad54edf9-cc27-4adf-8e1e-2ab6641cf18e",
   "metadata": {},
   "outputs": [],
   "source": []
  },
  {
   "cell_type": "markdown",
   "id": "04f24c46-70a9-4368-b9ac-390257275440",
   "metadata": {},
   "source": [
    "Q10. In a study of the effectiveness of a new weight loss drug, a sample of 50 participants lost an average of 6 pounds with a standard deviation of 2.5 pounds. Conduct a hypothesis test to determine if the drug is significantly effective at a 95% confidence level using a t-test."
   ]
  },
  {
   "cell_type": "code",
   "execution_count": null,
   "id": "9bf34009-a621-43cd-a5a7-147ed6901b66",
   "metadata": {},
   "outputs": [],
   "source": [
    "To conduct a hypothesis test to determine if the weight loss drug is significantly effective, we will use a t-test. The null hypothesis (H0) assumes that the drug is not significantly effective, while the alternative hypothesis (HA) assumes that the drug is significantly effective.\n",
    "\n",
    "Given information:\n",
    "\n",
    "Sample size (n) = 50\n",
    "Sample mean weight loss (x̄) = 6 pounds\n",
    "Sample standard deviation (s) = 2.5 pounds\n",
    "Significance level (α) = 0.05 (95% confidence level)\n",
    "Null hypothesis (H0): The weight loss drug is not significantly effective (μ = 0)\n",
    "Alternative hypothesis (HA): The weight loss drug is significantly effective (μ ≠ 0)\n",
    "\n",
    "Next, we calculate the t-statistic using the formula:\n",
    "t = (x̄ - μ) / (s / √n)\n",
    "\n",
    "t = (6 - 0) / (2.5 / √50)\n",
    "t = 6 / (2.5 / 7.071)\n",
    "t ≈ 6 / 1.118\n",
    "t ≈ 5.36\n",
    "\n",
    "Using a t-distribution table or statistical software, we find the critical t-value at a significance level of 0.05 for a two-tailed test with 49 degrees of freedom (n-1) is approximately ±2.009.\n",
    "\n",
    "Since the absolute value of the calculated t-statistic (5.36) is greater than the critical t-value (2.009), we reject the null hypothesis."
   ]
  },
  {
   "cell_type": "code",
   "execution_count": null,
   "id": "8672a4ff-5b2d-4b05-b365-af41481b52f5",
   "metadata": {},
   "outputs": [],
   "source": []
  },
  {
   "cell_type": "markdown",
   "id": "2d3d245c-19a4-40c0-93f1-dc45cb7de067",
   "metadata": {},
   "source": [
    "Q11. In a survey of 500 people, 65% reported being satisfied with their current job. Calculate the 95% confidence interval for the true proportion of people who are satisfied with their job."
   ]
  },
  {
   "cell_type": "markdown",
   "id": "037240e2-0d59-4805-9dfa-4cdf9b60dd91",
   "metadata": {},
   "source": [
    "To calculate the 95% confidence interval for the true proportion of people who are satisfied with their job, we will use the formula for a confidence interval for a proportion.\n",
    "\n",
    "Given information:\n",
    "\n",
    "Sample size (n) = 500\n",
    "Sample proportion (p̂) = 65% = 0.65\n",
    "To calculate the confidence interval, we need to determine the critical value for the desired confidence level and the standard error.\n",
    "\n",
    "Calculate the standard error:\n",
    "Standard Error = √((p̂ * (1 - p̂)) / n)\n",
    "Standard Error = √((0.65 * (1 - 0.65)) / 500)\n",
    "Standard Error ≈ 0.0188\n",
    "\n",
    "Determine the critical value:\n",
    "For a 95% confidence level, the critical value for a two-tailed test is approximately ±1.96.\n",
    "\n",
    "Calculate the confidence interval:\n",
    "Confidence Interval = Sample Proportion ± (Critical Value * Standard Error)\n",
    "Confidence Interval = 0.65 ± (1.96 * 0.0188)\n",
    "\n",
    "Calculating the upper and lower bounds of the confidence interval:\n",
    "Lower Bound = 0.65 - (1.96 * 0.0188)\n",
    "Lower Bound ≈ 0.6128\n",
    "\n",
    "Upper Bound = 0.65 + (1.96 * 0.0188)\n",
    "Upper Bound ≈ 0.6872\n",
    "\n",
    "The 95% confidence interval for the true proportion of people who are satisfied with their job is approximately 0.6128 to 0.6872. This means that we can be 95% confident that the true proportion of satisfied individuals falls within this interval based on the given sample data.\n",
    "\n",
    "Interpretation: If we were to repeat the survey multiple times and construct confidence intervals for each sample, approximately 95% of those intervals would contain the true proportion of individuals satisfied with their job."
   ]
  },
  {
   "cell_type": "code",
   "execution_count": null,
   "id": "3d54c30d-a8c7-4e9a-905c-d1b534663537",
   "metadata": {},
   "outputs": [],
   "source": []
  },
  {
   "cell_type": "markdown",
   "id": "74c8d458-0660-43ad-a95a-a1f81510e537",
   "metadata": {},
   "source": [
    "Q12. A researcher is testing the effectiveness of two different teaching methods on student performance. Sample A has a mean score of 85 with a standard deviation of 6, while sample B has a mean score of 82 with a standard deviation of 5. Conduct a hypothesis test to determine if the two teaching methods have a significant difference in student performance using a t-test with a significance level of 0.01."
   ]
  },
  {
   "cell_type": "code",
   "execution_count": null,
   "id": "20dbc4df-32f4-4918-be0f-8235004c5fea",
   "metadata": {},
   "outputs": [],
   "source": [
    "To determine if the two teaching methods have a significant difference in student performance, we can conduct an independent two-sample t-test.\n",
    "\n",
    "Given information:\n",
    "\n",
    "Sample A: Mean score (x̄A) = 85, Standard deviation (sA) = 6\n",
    "Sample B: Mean score (x̄B) = 82, Standard deviation (sB) = 5\n",
    "Significance level (α) = 0.01\n",
    "Null hypothesis (H0): The two teaching methods have no significant difference in student performance (μA = μB)\n",
    "Alternative hypothesis (HA): The two teaching methods have a significant difference in student performance (μA ≠ μB)\n",
    "\n",
    "Next, we calculate the t-statistic using the formula:\n",
    "t = (x̄A - x̄B) / √[(sA^2 / nA) + (sB^2 / nB)]\n",
    "\n",
    "t = (85 - 82) / √[(6^2 / nA) + (5^2 / nB)]\n",
    "\n",
    "We are not given the sample sizes (nA and nB), so we cannot calculate the exact t-statistic or the degrees of freedom. However, assuming the sample sizes are equal, let's calculate the t-statistic using nA = nB = 20 as an example:\n",
    "\n",
    "t = (85 - 82) / √[(6^2 / 20) + (5^2 / 20)]\n",
    "t = 3 / √[(36/20) + (25/20)]\n",
    "t ≈ 3 / √[(1.8) + (1.25)]\n",
    "t ≈ 3 / √(3.05)\n",
    "t ≈ 3 / 1.746\n",
    "t ≈ 1.716\n",
    "\n",
    "Using a t-distribution table or statistical software, we find the critical t-value at a significance level of 0.01 for a two-tailed test with the appropriate degrees of freedom is approximately ±2.62.\n",
    "\n",
    "Since the absolute value of the calculated t-statistic (1.716) is less than the critical t-value (2.62), we fail to reject the null hypothesis."
   ]
  },
  {
   "cell_type": "code",
   "execution_count": null,
   "id": "a629ae89-d73c-4b4c-b3ca-b4b25902dcc3",
   "metadata": {},
   "outputs": [],
   "source": []
  },
  {
   "cell_type": "markdown",
   "id": "c74a315d-6204-4c48-b152-ad5fd54d9e8b",
   "metadata": {},
   "source": [
    "Q13. A population has a mean of 60 and a standard deviation of 8. A sample of 50 observations has a mean of 65. Calculate the 90% confidence interval for the true population mean."
   ]
  },
  {
   "cell_type": "markdown",
   "id": "56773be5-7317-454c-9b7a-28380a5c63f2",
   "metadata": {},
   "source": [
    "To calculate the 90% confidence interval for the true population mean, we can use the formula for a confidence interval when the population standard deviation is known.\n",
    "\n",
    "Given information:\n",
    "\n",
    "Population mean (μ) = 60\n",
    "Population standard deviation (σ) = 8\n",
    "Sample size (n) = 50\n",
    "Sample mean (x̄) = 65\n",
    "To calculate the confidence interval, we need to determine the critical value for the desired level of confidence and the standard error.\n",
    "\n",
    "Calculate the standard error:\n",
    "Standard Error = σ / √n\n",
    "Standard Error = 8 / √50\n",
    "Standard Error ≈ 1.131\n",
    "\n",
    "Determine the critical value:\n",
    "For a 90% confidence level, the critical value for a two-tailed test is approximately ±1.645.\n",
    "\n",
    "Calculate the confidence interval:\n",
    "Confidence Interval = Sample Mean ± (Critical Value * Standard Error)\n",
    "Confidence Interval = 65 ± (1.645 * 1.131)\n",
    "\n",
    "Calculating the upper and lower bounds of the confidence interval:\n",
    "Lower Bound = 65 - (1.645 * 1.131)\n",
    "Lower Bound ≈ 63.14\n",
    "\n",
    "Upper Bound = 65 + (1.645 * 1.131)\n",
    "Upper Bound ≈ 66.86\n",
    "\n",
    "The 90% confidence interval for the true population mean is approximately 63.14 to 66.86. This means that we can be 90% confident that the true population mean falls within this interval based on the given sample data."
   ]
  },
  {
   "cell_type": "code",
   "execution_count": null,
   "id": "a149e959-e430-4a38-848b-e0727f68033b",
   "metadata": {},
   "outputs": [],
   "source": []
  },
  {
   "cell_type": "markdown",
   "id": "8f4010b9-dc37-4b56-9295-10540b64b586",
   "metadata": {},
   "source": [
    "Q14. In a study of the effects of caffeine on reaction time, a sample of 30 participants had an average reaction time of 0.25 seconds with a standard deviation of 0.05 seconds. Conduct a hypothesis test to determine if the caffeine has a significant effect on reaction time at a 90% confidence level using a t-test."
   ]
  },
  {
   "cell_type": "markdown",
   "id": "6d95a40e-98c9-4be1-9253-e3a13664175c",
   "metadata": {},
   "source": [
    "To determine if caffeine has a significant effect on reaction time, we can conduct a hypothesis test using a t-test.\n",
    "\n",
    "Given information:\n",
    "\n",
    "Sample size (n) = 30\n",
    "Sample mean reaction time (x̄) = 0.25 seconds\n",
    "Sample standard deviation (s) = 0.05 seconds\n",
    "Significance level (α) = 0.10 (90% confidence level)\n",
    "Null hypothesis (H0): Caffeine has no significant effect on reaction time (μ = 0)\n",
    "Alternative hypothesis (HA): Caffeine has a significant effect on reaction time (μ ≠ 0)\n",
    "\n",
    "Next, we calculate the t-statistic using the formula:\n",
    "t = (x̄ - μ) / (s / √n)\n",
    "\n",
    "t = (0.25 - 0) / (0.05 / √30)\n",
    "t = 0.25 / (0.05 / √30)\n",
    "t ≈ 0.25 / (0.05 / 5.477)\n",
    "t ≈ 0.25 / 1\n",
    "t ≈ 5.477\n",
    "\n",
    "Using a t-distribution table or statistical software, we find the critical t-value at a significance level of 0.10 for a two-tailed test with 29 degrees of freedom (n-1) is approximately ±1.699.\n",
    "\n",
    "Since the absolute value of the calculated t-statistic (5.477) is greater than the critical t-value (1.699), we reject the null hypothesis."
   ]
  },
  {
   "cell_type": "code",
   "execution_count": null,
   "id": "3bac5c4b-02ab-410d-ae91-00acdd99c67a",
   "metadata": {},
   "outputs": [],
   "source": []
  }
 ],
 "metadata": {
  "kernelspec": {
   "display_name": "",
   "name": ""
  },
  "language_info": {
   "name": ""
  }
 },
 "nbformat": 4,
 "nbformat_minor": 5
}
